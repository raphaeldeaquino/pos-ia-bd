{
 "cells": [
  {
   "cell_type": "markdown",
   "metadata": {
    "id": "N7xl7pt7wD70"
   },
   "source": [
    "# Amigos por idade\n",
    "\n",
    "Contar a quantidade média de amigos por idade.\n",
    "\n",
    "\n",
    "<img src=\"https://insight.ieeeusa.org/wp-content/uploads/sites/3/2018/08/network-1200-1200x700.jpg\" class=\"bg-primary mb-1\" width=\"300px\">"
   ]
  },
  {
   "cell_type": "markdown",
   "metadata": {
    "id": "eOYHhjXZyJdp"
   },
   "source": [
    "## Implementando a aplicação\n",
    "\n",
    "A primeira coisa a fazer é criar a aplicação e a sessão do Spark."
   ]
  },
  {
   "cell_type": "code",
   "execution_count": 2,
   "metadata": {
    "execution": {
     "iopub.execute_input": "2022-03-18T17:54:17.232880Z",
     "iopub.status.busy": "2022-03-18T17:54:17.232658Z",
     "iopub.status.idle": "2022-03-18T17:54:17.297882Z",
     "shell.execute_reply": "2022-03-18T17:54:17.297239Z",
     "shell.execute_reply.started": "2022-03-18T17:54:17.232856Z"
    },
    "id": "LAs8-NjWyayd",
    "tags": []
   },
   "outputs": [
    {
     "data": {
      "application/vnd.jupyter.widget-view+json": {
       "model_id": "32e42970a75e482d9af8eb5e8abd409d",
       "version_major": 2,
       "version_minor": 0
      },
      "text/plain": [
       "VBox()"
      ]
     },
     "metadata": {},
     "output_type": "display_data"
    },
    {
     "data": {
      "application/vnd.jupyter.widget-view+json": {
       "model_id": "",
       "version_major": 2,
       "version_minor": 0
      },
      "text/plain": [
       "FloatProgress(value=0.0, bar_style='info', description='Progress:', layout=Layout(height='25px', width='50%'),…"
      ]
     },
     "metadata": {},
     "output_type": "display_data"
    }
   ],
   "source": [
    "from pyspark.sql import SparkSession\n",
    "\n",
    "# A function that splits a line of input into (age, numFriends) tuples.\n",
    "def parse_line(line):\n",
    "    # Split by commas\n",
    "    fields = line.split(\",\")\n",
    "\n",
    "    # Extract the age and numFriends fields, and convert to integers\n",
    "    age = int(fields[2])\n",
    "    num_friends = int(fields[3])\n",
    "\n",
    "    # Create a tuple that is our result.\n",
    "    return age, num_friends\n",
    "\n",
    "spark = (SparkSession\n",
    "         .builder\n",
    "         .appName(\"FriendsByAge\")\n",
    "         .getOrCreate())"
   ]
  },
  {
   "cell_type": "markdown",
   "metadata": {
    "id": "lzCKRj9ty-RW"
   },
   "source": [
    "Carregar cada linha dos dados de origem em um RDD"
   ]
  },
  {
   "cell_type": "code",
   "execution_count": 9,
   "metadata": {
    "execution": {
     "iopub.execute_input": "2022-03-18T18:04:00.805760Z",
     "iopub.status.busy": "2022-03-18T18:04:00.805528Z",
     "iopub.status.idle": "2022-03-18T18:04:01.084206Z",
     "shell.execute_reply": "2022-03-18T18:04:01.083479Z",
     "shell.execute_reply.started": "2022-03-18T18:04:00.805724Z"
    },
    "id": "yDRTrhzQzRbN",
    "tags": []
   },
   "outputs": [
    {
     "data": {
      "application/vnd.jupyter.widget-view+json": {
       "model_id": "c1b71a5581584aa38d91a8d0f1089e22",
       "version_major": 2,
       "version_minor": 0
      },
      "text/plain": [
       "VBox()"
      ]
     },
     "metadata": {},
     "output_type": "display_data"
    },
    {
     "data": {
      "application/vnd.jupyter.widget-view+json": {
       "model_id": "",
       "version_major": 2,
       "version_minor": 0
      },
      "text/plain": [
       "FloatProgress(value=0.0, bar_style='info', description='Progress:', layout=Layout(height='25px', width='50%'),…"
      ]
     },
     "metadata": {},
     "output_type": "display_data"
    }
   ],
   "source": [
    "lines = spark.sparkContext.textFile(\"s3://bigdata-ifg-files/fakefriends.csv\")"
   ]
  },
  {
   "cell_type": "markdown",
   "metadata": {
    "id": "bVzdiEwlzy0_"
   },
   "source": [
    "Use nossa função `parseLines` para converter em tuplas (age, numFriends)"
   ]
  },
  {
   "cell_type": "code",
   "execution_count": 10,
   "metadata": {
    "execution": {
     "iopub.execute_input": "2022-03-18T18:04:03.625668Z",
     "iopub.status.busy": "2022-03-18T18:04:03.625438Z",
     "iopub.status.idle": "2022-03-18T18:04:03.686461Z",
     "shell.execute_reply": "2022-03-18T18:04:03.685817Z",
     "shell.execute_reply.started": "2022-03-18T18:04:03.625644Z"
    },
    "id": "Cq5EMUBa0Hwn",
    "tags": []
   },
   "outputs": [
    {
     "data": {
      "application/vnd.jupyter.widget-view+json": {
       "model_id": "5f9d98dc12a2458b92bc512a20025724",
       "version_major": 2,
       "version_minor": 0
      },
      "text/plain": [
       "VBox()"
      ]
     },
     "metadata": {},
     "output_type": "display_data"
    },
    {
     "data": {
      "application/vnd.jupyter.widget-view+json": {
       "model_id": "",
       "version_major": 2,
       "version_minor": 0
      },
      "text/plain": [
       "FloatProgress(value=0.0, bar_style='info', description='Progress:', layout=Layout(height='25px', width='50%'),…"
      ]
     },
     "metadata": {},
     "output_type": "display_data"
    }
   ],
   "source": [
    "rdd = lines.map(parse_line)"
   ]
  },
  {
   "cell_type": "markdown",
   "metadata": {
    "id": "_L8TrXfO0R9a"
   },
   "source": [
    "Muita coisa acontecendo aqui...\n",
    "\n",
    "Estamos começando com um RDD de forma (idade, numAmigos) onde idade é a CHAVE e numAmigos é o VALOR\n",
    "\n",
    "Usamos `mapValues` para converter cada valor `numFriends` em uma tupla de (numFriends, 1)\n",
    "\n",
    "Em seguida, usamos `reduceByKey` para somar o total de `numFriends` e o total de instâncias para cada idade, somando todos os valores numFriends e 1s respectivamente."
   ]
  },
  {
   "cell_type": "code",
   "execution_count": 11,
   "metadata": {
    "execution": {
     "iopub.execute_input": "2022-03-18T18:04:05.062266Z",
     "iopub.status.busy": "2022-03-18T18:04:05.061911Z",
     "iopub.status.idle": "2022-03-18T18:04:05.350372Z",
     "shell.execute_reply": "2022-03-18T18:04:05.349593Z",
     "shell.execute_reply.started": "2022-03-18T18:04:05.062239Z"
    },
    "id": "nvL060f71z-_",
    "tags": []
   },
   "outputs": [
    {
     "data": {
      "application/vnd.jupyter.widget-view+json": {
       "model_id": "7146519d24944bfb85ad2fdc10c0ec8b",
       "version_major": 2,
       "version_minor": 0
      },
      "text/plain": [
       "VBox()"
      ]
     },
     "metadata": {},
     "output_type": "display_data"
    },
    {
     "data": {
      "application/vnd.jupyter.widget-view+json": {
       "model_id": "",
       "version_major": 2,
       "version_minor": 0
      },
      "text/plain": [
       "FloatProgress(value=0.0, bar_style='info', description='Progress:', layout=Layout(height='25px', width='50%'),…"
      ]
     },
     "metadata": {},
     "output_type": "display_data"
    }
   ],
   "source": [
    "totals_by_age = rdd.mapValues(lambda x: (x, 1)).reduceByKey(lambda x, y: (x[0] + y[0], x[1] + y[1]))"
   ]
  },
  {
   "cell_type": "markdown",
   "metadata": {
    "id": "E_1YFJR-2RVb"
   },
   "source": [
    "Então agora temos tuplas de (idade, (totalFriends, totalInstances))\n",
    "\n",
    "Para calcular a média dividimos totalFriends/totalInstances para cada idade."
   ]
  },
  {
   "cell_type": "code",
   "execution_count": 12,
   "metadata": {
    "execution": {
     "iopub.execute_input": "2022-03-18T18:04:11.228502Z",
     "iopub.status.busy": "2022-03-18T18:04:11.228278Z",
     "iopub.status.idle": "2022-03-18T18:04:22.580391Z",
     "shell.execute_reply": "2022-03-18T18:04:22.579866Z",
     "shell.execute_reply.started": "2022-03-18T18:04:11.228477Z"
    },
    "id": "fPa0h20x2gjL"
   },
   "outputs": [
    {
     "data": {
      "application/vnd.jupyter.widget-view+json": {
       "model_id": "e4e630ccc7bd4ea88bc5e732a3c352fd",
       "version_major": 2,
       "version_minor": 0
      },
      "text/plain": [
       "VBox()"
      ]
     },
     "metadata": {},
     "output_type": "display_data"
    },
    {
     "data": {
      "application/vnd.jupyter.widget-view+json": {
       "model_id": "",
       "version_major": 2,
       "version_minor": 0
      },
      "text/plain": [
       "FloatProgress(value=0.0, bar_style='info', description='Progress:', layout=Layout(height='25px', width='50%'),…"
      ]
     },
     "metadata": {},
     "output_type": "display_data"
    }
   ],
   "source": [
    "average_by_age = totals_by_age.mapValues(lambda x: x[0] / x[1]).sortByKey()"
   ]
  },
  {
   "cell_type": "markdown",
   "metadata": {
    "id": "ANjMmXMc2sFX"
   },
   "source": [
    "Colete os resultados do RDD\n",
    "\n",
    "Isso inicia a computação do DAG e realmente executa o trabalho"
   ]
  },
  {
   "cell_type": "code",
   "execution_count": 13,
   "metadata": {
    "execution": {
     "iopub.execute_input": "2022-03-18T18:04:28.061923Z",
     "iopub.status.busy": "2022-03-18T18:04:28.061607Z",
     "iopub.status.idle": "2022-03-18T18:04:28.364237Z",
     "shell.execute_reply": "2022-03-18T18:04:28.363653Z",
     "shell.execute_reply.started": "2022-03-18T18:04:28.061894Z"
    },
    "id": "o5GLK_7A2yfx"
   },
   "outputs": [
    {
     "data": {
      "application/vnd.jupyter.widget-view+json": {
       "model_id": "c01f363553894ad3987800358f5bd82a",
       "version_major": 2,
       "version_minor": 0
      },
      "text/plain": [
       "VBox()"
      ]
     },
     "metadata": {},
     "output_type": "display_data"
    },
    {
     "data": {
      "application/vnd.jupyter.widget-view+json": {
       "model_id": "",
       "version_major": 2,
       "version_minor": 0
      },
      "text/plain": [
       "FloatProgress(value=0.0, bar_style='info', description='Progress:', layout=Layout(height='25px', width='50%'),…"
      ]
     },
     "metadata": {},
     "output_type": "display_data"
    },
    {
     "name": "stdout",
     "output_type": "stream",
     "text": [
      "(18, 343.375)\n",
      "(19, 213.27272727272728)\n",
      "(20, 165.0)\n",
      "(21, 350.875)\n",
      "(22, 206.42857142857142)\n",
      "(23, 246.3)\n",
      "(24, 233.8)\n",
      "(25, 197.45454545454547)\n",
      "(26, 242.05882352941177)\n",
      "(27, 228.125)\n",
      "(28, 209.1)\n",
      "(29, 215.91666666666666)\n",
      "(30, 235.8181818181818)\n",
      "(31, 267.25)\n",
      "(32, 207.9090909090909)\n",
      "(33, 325.3333333333333)\n",
      "(34, 245.5)\n",
      "(35, 211.625)\n",
      "(36, 246.6)\n",
      "(37, 249.33333333333334)\n",
      "(38, 193.53333333333333)\n",
      "(39, 169.28571428571428)\n",
      "(40, 250.8235294117647)\n",
      "(41, 268.55555555555554)\n",
      "(42, 303.5)\n",
      "(43, 230.57142857142858)\n",
      "(44, 282.1666666666667)\n",
      "(45, 309.53846153846155)\n",
      "(46, 223.69230769230768)\n",
      "(47, 233.22222222222223)\n",
      "(48, 281.4)\n",
      "(49, 184.66666666666666)\n",
      "(50, 254.6)\n",
      "(51, 302.14285714285717)\n",
      "(52, 340.6363636363636)\n",
      "(53, 222.85714285714286)\n",
      "(54, 278.0769230769231)\n",
      "(55, 295.53846153846155)\n",
      "(56, 306.6666666666667)\n",
      "(57, 258.8333333333333)\n",
      "(58, 116.54545454545455)\n",
      "(59, 220.0)\n",
      "(60, 202.71428571428572)\n",
      "(61, 256.22222222222223)\n",
      "(62, 220.76923076923077)\n",
      "(63, 384.0)\n",
      "(64, 281.3333333333333)\n",
      "(65, 298.2)\n",
      "(66, 276.44444444444446)\n",
      "(67, 214.625)\n",
      "(68, 269.6)\n",
      "(69, 235.2)"
     ]
    }
   ],
   "source": [
    "results = average_by_age.collect()\n",
    "for r in results:\n",
    "  print(r)"
   ]
  },
  {
   "cell_type": "code",
   "execution_count": null,
   "metadata": {},
   "outputs": [],
   "source": []
  }
 ],
 "metadata": {
  "colab": {
   "name": "FriendsByAge.ipynb",
   "provenance": []
  },
  "kernelspec": {
   "display_name": "PySpark",
   "language": "python",
   "name": "pysparkkernel"
  },
  "language_info": {
   "codemirror_mode": {
    "name": "python",
    "version": 3
   },
   "file_extension": ".py",
   "mimetype": "text/x-python",
   "name": "pyspark",
   "pygments_lexer": "python3"
  }
 },
 "nbformat": 4,
 "nbformat_minor": 4
}
